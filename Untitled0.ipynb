{
  "nbformat": 4,
  "nbformat_minor": 0,
  "metadata": {
    "colab": {
      "name": "Untitled0.ipynb",
      "provenance": [],
      "authorship_tag": "ABX9TyMpIAt+AV0vMQbQ8zSvWjKv",
      "include_colab_link": true
    },
    "kernelspec": {
      "name": "python3",
      "display_name": "Python 3"
    },
    "language_info": {
      "name": "python"
    }
  },
  "cells": [
    {
      "cell_type": "markdown",
      "metadata": {
        "id": "view-in-github",
        "colab_type": "text"
      },
      "source": [
        "<a href=\"https://colab.research.google.com/github/disappointedsern/udemyexercise/blob/main/Untitled0.ipynb\" target=\"_parent\"><img src=\"https://colab.research.google.com/assets/colab-badge.svg\" alt=\"Open In Colab\"/></a>"
      ]
    },
    {
      "cell_type": "code",
      "execution_count": 1,
      "metadata": {
        "id": "LtUlYiU5zTX4",
        "colab": {
          "base_uri": "https://localhost:8080/"
        },
        "outputId": "9ef27ae9-9b9d-4504-a73b-27c786534087"
      },
      "outputs": [
        {
          "output_type": "stream",
          "name": "stdout",
          "text": [
            "hello World\n"
          ]
        }
      ],
      "source": [
        "print(\"hello World\")"
      ]
    },
    {
      "cell_type": "code",
      "source": [
        "print(\"Hello Sohai\")"
      ],
      "metadata": {
        "id": "uOOU1VNybvs7",
        "outputId": "d4707fef-ccda-4b34-bc53-afde71e967a4",
        "colab": {
          "base_uri": "https://localhost:8080/"
        }
      },
      "execution_count": 2,
      "outputs": [
        {
          "output_type": "stream",
          "name": "stdout",
          "text": [
            "Hello Sohai\n"
          ]
        }
      ]
    }
  ]
}